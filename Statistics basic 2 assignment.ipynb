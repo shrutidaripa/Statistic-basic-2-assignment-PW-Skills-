{
 "cells": [
  {
   "cell_type": "markdown",
   "id": "bbdb0423",
   "metadata": {},
   "source": [
    "# Statistics Basic-2"
   ]
  },
  {
   "cell_type": "markdown",
   "id": "a7b90a55",
   "metadata": {},
   "source": [
    "Q1. What are the three measures of central tendency?\n",
    "ANS:-The three main measures of central tendency are:\n",
    "\n",
    "Mean: This is the most common idea of \"average\". It's calculated by adding up all the values in a dataset and then dividing by the number of values.\n",
    "Median: This is the \"middle\" value in a dataset when the data is ordered from least to greatest.\n",
    "Mode: This is the most frequent value in a dataset."
   ]
  },
  {
   "cell_type": "markdown",
   "id": "3679e00a",
   "metadata": {},
   "source": [
    "Q2. What is the difference between the mean, median, and mode? How are they used to measure the\n",
    "central tendency of a dataset?\n",
    "ANS:-All three (mean, median, and mode) are ways to describe the center of a dataset, but they each do it in a different way:\n",
    "\n",
    "Mean:  This is the average of all the values, calculated by adding them all up and dividing by the number of values. It's a good all-around measure, but can be sensitive to extreme values (outliers).\n",
    "\n",
    "Median:  This is the \"middle\" value when the data is ordered from least to greatest. If you have an even number of values, the median is the average of the two middle values. It's less sensitive to outliers than the mean.\n",
    "\n",
    "Mode:  This is the most frequent value in the dataset. There can be one mode, multiple modes (bimodal or multimodal data), or even no mode at all (if all values occur with equal frequency).\n",
    "Choosing which measure to use depends on the data and what you want to know:\n",
    "\n",
    "If the data is symmetrical (bell-shaped curve), the mean, median, and mode will all be close to each other and any of them can be a good representation of the center.\n",
    "If the data is skewed (lopsided), the median is often a better representation of the center than the mean, which can be pulled towards the tail of the skew.\n",
    "For categorical data (like shoe size or favorite color), the mode is the most useful measure, as it tells you the most popular option."
   ]
  },
  {
   "cell_type": "markdown",
   "id": "71546078",
   "metadata": {},
   "source": [
    "Q3. Measure the three measures of central tendency for the given height data:\n",
    "[178,177,176,177,178.2,178,175,179,180,175,178.9,176.2,177,172.5,178,176.5]\n",
    "ANS:-\n",
    "Measure\tHeight\n",
    "Mean\t177.02\n",
    "Median\t177.0\n",
    "Mode\t178.0"
   ]
  },
  {
   "cell_type": "markdown",
   "id": "81b4e17b",
   "metadata": {},
   "source": [
    "Q4. Find the standard deviation for the given data:\n",
    "[178,177,176,177,178.2,178,175,179,180,175,178.9,176.2,177,172.5,178,176.5]\n",
    "ANS:- The standard deviation is: 1.78"
   ]
  },
  {
   "cell_type": "markdown",
   "id": "f233d456",
   "metadata": {},
   "source": [
    "Q5. How are measures of dispersion such as range, variance, and standard deviation used to describe\n",
    "the spread of a dataset? Provide an example.\n",
    "ANS:-Measures of dispersion like range, variance, and standard deviation quantify how spread out the data points are in a dataset, relative to a central tendency measure (like mean or median). Here's a breakdown of how each is used and an example:\n",
    "\n",
    "Range: This is the simplest measure, calculated as the difference between the highest and lowest values in the data set. It gives a basic idea of how spread out the data is, but it can be heavily influenced by outliers.\n",
    "\n",
    "Variance:  This is the average of the squared deviations from the mean. It reflects how much, on average, the data points differ from the mean. A higher variance indicates a larger spread of data points. However, variance is measured in the squared units of the data, which can be difficult to interpret directly.\n",
    "\n",
    "Standard Deviation: This is the square root of the variance. It's calculated in the same units as the original data, making it easier to interpret the spread in the context of the data itself. A higher standard deviation indicates that the data points are further from the mean on average.\n",
    "\n",
    "Example:\n",
    "\n",
    "Imagine you have exam scores for 20 students:\n",
    "Scores: [80, 92, 78, 95, 88, 85, 100, 72, 87, 90, 82, 75, 98, 84, 79, 91, 89, 83, 77, 97]\n",
    "Mean Score: (sum of scores) / (number of students) = 86.3\n",
    "Range: Highest (100) - Lowest (72) = 28\n",
    "Variance: We can calculate the variance, but for explanation purposes, let's focus on standard deviation.\n",
    "Standard Deviation: The calculation will show a standard deviation of around 8.2."
   ]
  },
  {
   "cell_type": "markdown",
   "id": "2b50f895",
   "metadata": {},
   "source": [
    "Q6. What is a Venn diagram?\n",
    "ANS:-A Venn diagram is a graphical tool used to represent the relationships between sets of things. It typically uses overlapping circles to depict  how elements are shared or differ between the sets.\n",
    "Some are the key components of a Venn diagram:\n",
    "\n",
    "Circles: Each circle represents a set of items.\n",
    "Overlapping area: The area where circles overlap represents items that belong to both sets (intersection).\n",
    "Non-overlapping areas: Areas within a circle but outside the overlap region represent items that belong only to that specific set.\n",
    "Labels: Circles and areas are often labelled with names of the sets and sometimes with the number of elements in each area.\n",
    "Venn diagrams are commonly used for:\n",
    "\n",
    "Visualizing simple comparisons and contrasts between two or three sets\n",
    "Teaching set theory concepts such as intersections, unions, and complements\n",
    "Illustrating breakdowns of data in various fields like statistics, probability, linguistics, and computer science."
   ]
  },
  {
   "cell_type": "markdown",
   "id": "dda02458",
   "metadata": {},
   "source": [
    "Q7. For the two given sets A = (2,3,4,5,6,7) & B = (0,2,6,8,10). Find:\n",
    "(i) A B\n",
    "(ii) A ⋃ B\n",
    "ANS:-(i) Intersection (A ∩ B):\n",
    "The intersection of two sets A and B refers to the elements that are common to both sets. In this case, the elements that exist in both set A and set B are {2, 6}.\n",
    "\n",
    "(ii) Union (A ∪ B):\n",
    "The union of two sets A and B includes all elements that are in either set A or set B, or in both sets. So, A ∪ B will contain all the unique elements from both sets A and B. Here, the union is {0, 2, 3, 4, 5, 6, 7, 8, 10}."
   ]
  },
  {
   "cell_type": "markdown",
   "id": "ffddc8d4",
   "metadata": {},
   "source": [
    "Q8. What do you understand about skewness in data?\n",
    "ANS:-Skewness refers to the asymmetry in a distribution of data points. It tells you how much the data is stretched to one side of the center (mean) compared to the other. Here's a breakdown of the concept:\n",
    "\n",
    "Symmetrical Distribution: When the left and right sides of the data distribution mirror each other around the center, the skewness is zero. This is often referred to as a \"normal distribution\" or \"bell curve.\"\n",
    "\n",
    "Positive Skew: If the data is stretched out more towards the right side (tail is longer on the right), the skewness is positive. Imagine a dataset of exam scores where most students did well (clustered on the left/center) but a few scored very high (long tail on the right).\n",
    "\n",
    "Negative Skew: If the data is stretched out more towards the left side (tail is longer on the left), the skewness is negative. This could be like income data where most people have a mid-range income but a few have very high incomes (long tail on the left).\n",
    "\n",
    "Understanding skewness is important because:\n",
    "\n",
    "It helps identify potential issues with data analysis methods: Many statistical tests assume a normal distribution of data. If the data is skewed, these tests may not be reliable.\n",
    "\n",
    "It provides insights into the underlying processes: Skewness can reveal something about the factors that influence the data. For example, a positive skew in income data suggests outliers on the high end.\n",
    "\n",
    "Here are some additional points about skewness:\n",
    "\n",
    "It's measured by a statistical value, but interpreting that value can be nuanced.\n",
    "There are ways to handle skewed data in statistical analysis, like transformations or using non-parametric tests.\n",
    "Skewness is often visualized using a histogram or density plot, where the asymmetry is evident in the shape of the distribution."
   ]
  },
  {
   "cell_type": "markdown",
   "id": "dc3edac7",
   "metadata": {},
   "source": [
    "Q9. If a data is right skewed then what will be the position of median with respect to mean?\n",
    "ANS:-In a right-skewed data distribution, the median will be located to the left of the mean.\n",
    "\n",
    "Here's why:\n",
    "\n",
    "In a right-skewed distribution, the data is clustered more towards the left side with a longer tail extending towards the right side.\n",
    "The median represents the \"middle\" value when the data is ordered from least to greatest. So, it splits the data into two halves with an equal number of values on either side.\n",
    "Since there are more data points on the left side in a right-skewed distribution, the median will be located at the point that divides the data with more values on the left from the fewer values on the right.\n",
    "The mean, on the other hand, is sensitive to outliers and gets pulled slightly towards the longer tail (right side) due to the influence of the larger values."
   ]
  },
  {
   "cell_type": "markdown",
   "id": "c015b8d9",
   "metadata": {},
   "source": [
    "Q10. Explain the difference between covariance and correlation. How are these measures used in\n",
    "statistical analysis?\n",
    "ANS:-Covariance and correlation are both measures used to assess the relationship between two variables in statistics, but they capture different aspects of that relationship. Here's a breakdown of their key differences:\n",
    "\n",
    "Covariance:\n",
    "\n",
    "What it measures: Covariance tells you how much two variables vary together.\n",
    "Units: Covariance is measured in the product of the units of the original variables.\n",
    "Interpretation:\n",
    "A positive covariance indicates that the variables tend to move in the same direction. As one variable increases, the other tends to increase as well, or vice versa (both decrease).\n",
    "A negative covariance indicates that the variables tend to move in opposite directions. As one variable increases, the other tends to decrease.\n",
    "A zero covariance doesn't necessarily mean no relationship. It can simply mean there's no linear relationship.\n",
    "Sensitivity: Covariance is sensitive to the scale of the data. For example, if you measure height in centimeters instead of meters, the covariance will be 100 times larger.\n",
    "Correlation:\n",
    "\n",
    "What it measures: Correlation is a standardized version of covariance. It tells you the strength and direction of the linear relationship between two variables.\n",
    "Units: Correlation has no units (it's between -1 and 1). This makes it easier to compare relationships between different data sets with different units.\n",
    "Interpretation:\n",
    "A correlation coefficient of +1 indicates a perfect positive linear relationship (as one variable increases, the other increases proportionally).\n",
    "A correlation coefficient of -1 indicates a perfect negative linear relationship (as one variable increases, the other decreases proportionally).\n",
    "A correlation coefficient of 0 indicates no linear relationship.\n",
    "Values between -1 and 0 and between 0 and 1 indicate the strength of the positive or negative linear relationship, respectively.\n",
    "How they are used:\n",
    "\n",
    "Covariance: Covariance can be a useful starting point to see if there's a relationship between two variables, but due to its sensitivity to scale, it's often not the most informative measure.\n",
    "Correlation: Correlation is a more widely used measure because it provides a standardized value between -1 and 1, making it easier to interpret the strength and direction of the linear relationship between variables. It's helpful for:\n",
    "Identifying potential relationships between variables for further analysis.\n",
    "Comparing the strength of relationships between different pairs of variables."
   ]
  },
  {
   "cell_type": "markdown",
   "id": "54fc47c3",
   "metadata": {},
   "source": [
    "Q11. What is the formula for calculating the sample mean? Provide an example calculation for a\n",
    "dataset.\n",
    "ANS:-The formula for calculating the sample mean is:\n",
    "\n",
    "Σ xi / n\n",
    "\n",
    "where:\n",
    "\n",
    "Σ (sigma) represents the sum of all the values in the data set (xi).\n",
    "xi represents each individual value in the data set.\n",
    "n represents the total number of values in the data set (sample size).\n",
    "Here's an example calculation for the following dataset:\n",
    "\n",
    "Data: {4, 7, 9, 5, 2}\n",
    "\n",
    "Σ xi (sum of all values): 4 + 7 + 9 + 5 + 2 = 27\n",
    "n (number of values): There are 5 values in the data set.\n",
    "Sample mean: 27 / 5 = 5.4"
   ]
  },
  {
   "cell_type": "markdown",
   "id": "ce807703",
   "metadata": {},
   "source": [
    "Q12. For a normal distribution data what is the relationship between its measure of central tendency?\n",
    "ANS:-In a normal distribution, also known as a Gaussian distribution, all the measures of central tendency (mean, median, and mode) coincide. This means they all have the same value.\n",
    "\n",
    "Here's why:\n",
    "\n",
    "A normal distribution is symmetrical. The left and right sides of the bell-shaped curve mirror each other perfectly around the center.\n",
    "The mean represents the average of all the data points.\n",
    "The median is the \"middle\" value when the data is ordered from least to greatest.\n",
    "The mode is the most frequent value in the data set.\n",
    "Since the normal distribution is symmetrical, the center point (where the most data accumulates) coincides with the average (mean), the middle value (median), and the most frequent value (mode). They all essentially point to the same central location within the data.\n",
    "\n",
    "Here are some additional points to consider:\n",
    "\n",
    "This relationship between measures of central tendency only applies to normal distributions. In skewed distributions, the mean, median, and mode can have different values.\n",
    "Visualizing the data with a histogram or density plot can help you identify if the data is normally distributed."
   ]
  },
  {
   "cell_type": "markdown",
   "id": "09e55371",
   "metadata": {},
   "source": [
    "Q13. How is covariance different from correlation?\n",
    "ANS:-Covariance vs. Correlation: Understanding the Nuances\n",
    "\n",
    "Covariance and correlation are both used to assess the relationship between two variables in statistics, but they capture different aspects of that relationship. Here's a breakdown of their key differences:\n",
    "\n",
    "Covariance:\n",
    "\n",
    "What it measures: Covariance tells you how much two variables vary together. It indicates whether they tend to move in the same direction (positive covariance) or opposite directions (negative covariance).\n",
    "Units: Covariance is measured in the product of the units of the original variables. For example, if you're measuring height in centimeters and weight in kilograms, the covariance would be in centimeter-kilograms.\n",
    "Interpretation:\n",
    "A positive covariance indicates that the variables tend to move in the same direction. As one variable increases, the other tends to increase as well, or vice versa (both decrease).\n",
    "A negative covariance indicates that the variables tend to move in opposite directions. As one variable increases, the other tends to decrease.\n",
    "A zero covariance doesn't necessarily mean no relationship. It can simply mean there's no linear relationship.\n",
    "Correlation:\n",
    "\n",
    "What it measures: Correlation is a standardized version of covariance. It tells you the strength and direction of the linear relationship between two variables.\n",
    "Units: Correlation has no units (it's between -1 and 1). This makes it easier to compare relationships between different data sets with different units.\n",
    "Interpretation:\n",
    "A correlation coefficient of +1 indicates a perfect positive linear relationship (as one variable increases, the other increases proportionally).\n",
    "A correlation coefficient of -1 indicates a perfect negative linear relationship (as one variable increases, the other decreases proportionally).\n",
    "A correlation coefficient of 0 indicates no linear relationship.\n",
    "Values between -1 and 0 and between 0 and 1 indicate the strength of the positive or negative linear relationship, respectively."
   ]
  },
  {
   "cell_type": "markdown",
   "id": "64edcb84",
   "metadata": {},
   "source": [
    "Q14. How do outliers affect measures of central tendency and dispersion? Provide an example.\n",
    "ANS:-Central tendency:\n",
    "\n",
    "Mean: The mean is highly sensitive to outliers. A single extreme value can significantly pull the mean in its direction.\n",
    "Median: The median is less affected by outliers compared to the mean. As it represents the \"middle\" value, extreme points on either side don't influence it as much, especially for datasets with an odd number of values.\n",
    "Mode: The mode is generally not affected by outliers unless multiple outliers coincidentally fall on the same value.\n",
    "Example:\n",
    "\n",
    "Consider a dataset of exam scores: {80, 92, 78, 95, 88, 85, 100, 72, 87, 90}.\n",
    "\n",
    "Mean: The mean score is 86.3.\n",
    "Median: The median score is 88.\n",
    "Mode: There is no mode (no score repeats the most)."
   ]
  }
 ],
 "metadata": {
  "kernelspec": {
   "display_name": "Python 3 (ipykernel)",
   "language": "python",
   "name": "python3"
  },
  "language_info": {
   "codemirror_mode": {
    "name": "ipython",
    "version": 3
   },
   "file_extension": ".py",
   "mimetype": "text/x-python",
   "name": "python",
   "nbconvert_exporter": "python",
   "pygments_lexer": "ipython3",
   "version": "3.11.5"
  }
 },
 "nbformat": 4,
 "nbformat_minor": 5
}
